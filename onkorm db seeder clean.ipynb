{
 "cells": [
  {
   "cell_type": "markdown",
   "id": "e8e06e63",
   "metadata": {},
   "source": [
    "Önkorm oldal:\n",
    "https://mikrodat.ujbuda.hu/web/\n",
    "\n",
    "Github:\n",
    "https://github.com/xngst/mikrodat_api"
   ]
  },
  {
   "cell_type": "raw",
   "id": "e9a00240",
   "metadata": {},
   "source": [
    "Hogy működik a való világban, és hogy kötődik össze a mikrodat adatokkal? \n",
    "Az önkormányzatban van egy képviselőtestület [test] \n",
    "(az összes képviselő részt vesz benne), \n",
    "és több bizottság [biz] (csak azok vesznek részt akik tagjai a bizottságnak).\n",
    "A testületnek és a bizottságnak is vannak üléseik [folder]. \n",
    "Ezek lehetnek előre meghirdetett időpontok (rendes), vagy sürgős ülések (rendkívüli). \n",
    "Van időpontjuk, helyszínük.\n",
    "Az testületi / bizottsági ülés előtt X nappal ki kell küldeni a meghívót [inv]. \n",
    "Ebben szerepelnek a napirendi pontok, a döntési javaslatok (amikről megy majd a szavazás), \n",
    "és az előterjesztések kapcsolódó dokumentumai (háttéranyagok).\n",
    "Az ülés napján ezt földolgozzák, megszavazzák, és készül a jegyzőkönyv.\n",
    "A sikeresen megszavazott előterjesztésekből pedig határozatok lesznek.\n"
   ]
  },
  {
   "cell_type": "markdown",
   "id": "4f0615aa",
   "metadata": {},
   "source": [
    "- Képviselő-testületi / bizottsági ülés\n",
    "    - meghívó\n",
    "        - meghívó részletek\n",
    "    - jegyzőkönyv\n",
    "    - napirendi pont\n",
    "        - döntési javaslatok és előterjesztések\n",
    "            - melléklet\n",
    "            - szavazás\n",
    "                - határozat"
   ]
  },
  {
   "cell_type": "markdown",
   "id": "72ffa0cd",
   "metadata": {},
   "source": [
    "## 1) Mappák\n",
    "\n",
    "A mappák a Mikrodat által használt logikát tükrözik:\n",
    "\n",
    "\n",
    "- **Meghívók**  \n",
    "    - Testület  \n",
    "        - Napirendek  \n",
    "            - Előterjesztés  \n",
    "            - Döntési javaslat  \n",
    "            - Melléklet  \n",
    "- **Határozatok**  \n",
    "    - Bizottságok\n",
    "        - Napirendek\n",
    "            - Határozat\n",
    "- **Jegyzőkönyvek**  \n",
    "    - Bizottságok\n",
    "        - Napirendek\n",
    "            - Jegyzőkönyv\n",
    "\n",
    "---\n",
    "### Mappa API Endpointok\n",
    "\n",
    "#### ` Minden mappát évek azonosítanak`\n",
    "\n",
    "* /inv/years  \n",
    "https://mikrodat.ujbuda.hu/app/cms/api/honlap/inv/years  \n",
    "* /hat/years  \n",
    "https://mikrodat.ujbuda.hu/app/cms/api/honlap/hat/years  \n",
    "* /jegy/years  \n",
    "https://mikrodat.ujbuda.hu/app/cms/api/honlap/jegy/years  \n",
    "\n",
    "Ezek egy önkormányzaton belül rendre ugyanazt az évlistát adják vissza.\n",
    "\n",
    "#### Meghívók (inv)\n",
    "> /**inv**/folders?year=[year]  \n",
    "https://mikrodat.ujbuda.hu/app/cms/api/honlap/inv/folders?year=2024  \n",
    "- datum\n",
    "- kategoria\n",
    "- idopont\n",
    "- hely\n",
    "- uuid **<-- meghívó mappa UUID**\n",
    "- nev\n",
    "\n",
    "#### Határozatok (hat)\n",
    "> /**hat**/folders?year=[year]  \n",
    "https://mikrodat.ujbuda.hu/app/cms/api/honlap/hat/folders?year=2024  \n",
    "- datum\n",
    "- kategoria\n",
    "- idopont\n",
    "- hely\n",
    "- uuid **<-- határozat mappa UUID**\n",
    "- nev\n",
    "\n",
    "#### Jegyzőkönyvek (jegy)\n",
    "> /**hat**/folders?year=[year]  \n",
    "https://mikrodat.ujbuda.hu/app/cms/api/honlap/jegy/folders?year=2024  \n",
    "- datum\n",
    "- kategoria\n",
    "- idopont\n",
    "- hely\n",
    "- uuid **<-- jegyzőkönyv mappa UUID**\n",
    "- nev"
   ]
  },
  {
   "cell_type": "markdown",
   "id": "0c2ad550",
   "metadata": {},
   "source": [
    "## 2 ) Meghívók\n",
    "\n",
    "#### `Minden meghívót mappa UUID azonosít`\n",
    "---\n",
    "\n",
    "### Meghívó API Endpointok\n",
    "\n",
    "`Az alábbi meghívó endpontok mind egy sornyi adatot adnak vissza`\n",
    "\n",
    "#### Meghívó részletek (detail)\n",
    "> /**detail**?id=[folder_UUID]  \n",
    "https://mikrodat.ujbuda.hu/app/cms/api/honlap/detail?id=3dd07e6f-2885-11ef-a7ed-e70a27390546\n",
    "\n",
    "\n",
    "* datum\n",
    "* gyujto\n",
    "* kategoria\n",
    "* folapra\n",
    "* eloterjeszto\n",
    "* targy\n",
    "* napirend\n",
    "* uuid **<--mappa UUID**\n",
    "* nyilvanossagjelolo\n",
    "* testuletijelolo\n",
    "* dateLastModified\n",
    "* name\n",
    "* idopont\n",
    "* hely\n",
    "* nev\n",
    "* iktatoszam\n",
    "---\n",
    "\n",
    "\n",
    "#### Bizottsági  (biz)\n",
    "> /inv/**biz**?id=[folder_UUID]  \n",
    "https://mikrodat.ujbuda.hu/app/cms/api/honlap/inv/biz?id=a57cdad5-4a65-11ef-a077-e70a27390546\n",
    "\n",
    "- datum\n",
    "- nyilvanossagjelolo\n",
    "- kategoria\n",
    "- idopont\n",
    "- hely\n",
    "- uuid **<--bizottság UUID**\n",
    "- nev\n",
    "---\n",
    "\n",
    "#### Testületi (test)\n",
    "> /inv/**test**?id=[folder_UUID]  \n",
    "https://mikrodat.ujbuda.hu/app/cms/api/honlap/inv/test?id=8ba08f48-4373-11ef-a7ed-e70a27390546\n",
    "\n",
    "- datum\n",
    "- nyilvanossagjelolo\n",
    "- kategoria\n",
    "- idopont\n",
    "- hely\n",
    "- uuid **<--testület UUID**\n",
    "- nev\n",
    "---\n",
    "\n"
   ]
  },
  {
   "cell_type": "markdown",
   "id": "93c67f32",
   "metadata": {},
   "source": [
    "https://docs.google.com/document/d/1lTdWnm2XdvzRzZPTDr-bVnnPzKdIb2QLP4RjpNyS8do/edit"
   ]
  },
  {
   "cell_type": "markdown",
   "id": "3d9e5731",
   "metadata": {},
   "source": [
    "> + alkalmazásfelületen lehessen önkormányzatot és évet választani\n",
    "\n",
    "> + Az ülések listájánál megjeleníteni a bizottságokat és lehessen bizottságok szerint  \n",
    "> + Könynen elérhetővé tenni az ülésekhez tartozó meghívókat, jegyzőkönyveket és határozatokat  \n",
    "> + PDF-ekben keresés kontextus megmutatásával  "
   ]
  },
  {
   "cell_type": "markdown",
   "id": "b9fa7372",
   "metadata": {},
   "source": [
    "## 3) Napirendi pont  \n",
    "\n",
    "### Testület\n",
    "> inv/listtest?id=[testület_UUID]  \n",
    "https://mikrodat.ujbuda.hu/app/cms/api/honlap/inv/listtest?id=8ba08f48-4373-11ef-a7ed-e70a27390546\n",
    "\n",
    "- gyujto\n",
    "- nyilvanossagjelolo\n",
    "- hasPermissions\n",
    "- folapra\n",
    "- eloterjeszto\n",
    "- targy\n",
    "- name\n",
    "- napirend\n",
    "- uuid **<--Testület napirend UUID**\n",
    "- linkName\n",
    "- referencia\n",
    "\n",
    "### Bizottság\n",
    "\n",
    ">inv/list?id=[bizottság mappa UUID]id2=[bizottság UUID]  \n",
    "https://mikrodat.ujbuda.hu/app/cms/api/honlap/inv/list?id=5417b7af-2fae-11ef-a7ed-e70a27390546&id2=545b0250-2fae-11ef-a7ed-e70a27390546\n",
    "\n",
    "- gyujto\n",
    "- nyilvanossagjelolo\n",
    "- hasPermissions\n",
    "- folapra\n",
    "- eloterjeszto\n",
    "- targy\n",
    "- name\n",
    "- napirend\n",
    "- uuid **<--Bizottság napirend UUID**\n",
    "- linkName\n",
    "- referencia\n"
   ]
  },
  {
   "cell_type": "markdown",
   "id": "32e536bf",
   "metadata": {},
   "source": [
    "### 4) Döntési / határozati javaslatok\n",
    "\n",
    ">/elo/djav/uuid=[meghívó uuid]&uuid2=[napirendi pont uuid]  \n",
    "https://mikrodat.ujbuda.hu/app/cms/api/honlap/elo/djav?uuid=8ba08f48-4373-11ef-a7ed-e70a27390546&uuid2=25ac459d-4d89-11ef-a077-e70a27390546\n",
    "\n",
    "- gyujto\n",
    "- nyilvanossagjelolo\n",
    "- dateLastModified\n",
    "- statetext\n",
    "- name **<---dokumentum név**\n",
    "- userLastModified\n",
    "- filesize\n",
    "- uuid **<---dokumentum UUID**"
   ]
  },
  {
   "cell_type": "markdown",
   "id": "4b561cd2",
   "metadata": {},
   "source": [
    "### 5) Előterjesztés mellékletek\n",
    "\n",
    "> elo/att/uuid=[meghívó UUID]&uuid2=[napirendi pont UUID]  \n",
    "https://mikrodat.ujbuda.hu/app/cms/api/honlap/elo/att?uuid=8ba08f48-4373-11ef-a7ed-e70a27390546&uuid2=25ac459d-4d89-11ef-a077-e70a27390546\n",
    "\n",
    "- gyujto\n",
    "- nyilvanossagjelolo\n",
    "- dateLastModified\n",
    "- statetext\n",
    "- name **<---dokumentum név**\n",
    "- userLastModified\n",
    "- filesize\n",
    "- uuid **<---dokumentum UUID**\n"
   ]
  },
  {
   "cell_type": "code",
   "execution_count": null,
   "id": "bcbeca81",
   "metadata": {},
   "outputs": [],
   "source": [
    "import sqlite3\n",
    "import requests\n",
    "import warnings\n",
    "import time\n",
    "import pandas as pd\n",
    "from dataclasses import dataclass\n",
    "warnings.filterwarnings(\"ignore\")\n",
    "\n",
    "DATABASE_PATH = 'onkorm.db'\n",
    "\n",
    "def fetch_data_from_db(database_path, table_name):\n",
    "    with sqlite3.connect(database_path) as conn:\n",
    "        query = f\"SELECT * FROM {table_name}\"\n",
    "        df = pd.read_sql_query(query, conn)\n",
    "    return df\n",
    "\n",
    "def make_df(url:str) -> pd.DataFrame():\n",
    "    \"\"\"\n",
    "    Make pandas dataframe from url GET request json response\n",
    "    \"\"\"\n",
    "    try:\n",
    "        resp = requests.get(url, verify=False)\n",
    "        resp.raise_for_status() \n",
    "        json_data = resp.json()\n",
    "        if 'type' in json_data and json_data['type'] != \"ERROR\":\n",
    "            if 'content' in json_data:\n",
    "                content = json_data['content']\n",
    "                if isinstance(content, dict):\n",
    "                    df = pd.DataFrame([content])\n",
    "                elif isinstance(content, list):\n",
    "                    if len(content) > 0 and isinstance(content[0], dict):\n",
    "                        df = pd.DataFrame(content)\n",
    "                    else:\n",
    "                        print(\"Content list is empty or does not contain dictionaries.\")\n",
    "                        return None\n",
    "                else:\n",
    "                    print(\"Content is neither a dictionary nor a list of dictionaries.\")\n",
    "                    return None\n",
    "                return df\n",
    "            else:\n",
    "                print(\"Content is not found in the response.\")\n",
    "        else:\n",
    "            print(\"Response type is ERROR.\")\n",
    "    except requests.exceptions.RequestException as e:\n",
    "        print(f\"Request failed: {e}\")\n",
    "        return\n",
    "    except ValueError as e:\n",
    "        print(f\"Failed to parse JSON: {e}\")\n",
    "        return\n",
    "    except KeyError as e:\n",
    "        print(f\"Missing expected key: {e}\")\n",
    "        return\n",
    "    except Exception as e:\n",
    "        print(f\"An unexpected error occurred: {e}\")\n",
    "        return\n",
    "    return \n",
    "\n",
    "@dataclass\n",
    "class Onkorm:\n",
    "    name: str\n",
    "    base_url: str\n",
    "    db_folder: str\n",
    "    db_detail: str\n",
    "    db_biz: str\n",
    "    db_test: str\n",
    "    db_test_napirendi: str\n",
    "    db_biz_napirendi: str \n",
    "    db_test_dokumentum : str\n",
    "    db_test_melleklet : str\n",
    "    db_biz_dokumentum : str\n",
    "    db_biz_melleklet : str        \n",
    "    db_jegyzokv: str\n",
    "    db_jegyz_dok: str\n",
    "    db_hatarozat: str\n",
    "\n",
    "ujbuda = Onkorm(name = \"Újbuda\",\n",
    "                base_url = \"https://mikrodat.ujbuda.hu/app/cms/api/honlap\", \n",
    "                db_folder=\"ujbuda_meghivo_mappa\",\n",
    "                db_detail=\"ujbuda_meghivo_reszlet\",\n",
    "                db_test = \"ujbuda_test_meghivo\",\n",
    "                db_biz = \"ujbuda_biz_meghivo\",\n",
    "                db_test_napirendi = \"ujbuda_test_napirendi\",\n",
    "                db_biz_napirendi = \"ujbuda_biz_napirendi\",\n",
    "                db_test_dokumentum = \"ujbuda_test_dokumentum\",\n",
    "                db_test_melleklet = \"ujbuda_test_melleklet\",\n",
    "                db_biz_dokumentum = \"ujbuda_biz_dokumentum\",\n",
    "                db_biz_melleklet = \"ujbuda_biz_melleklet\",\n",
    "                db_jegyzokv = \"ujbuda_jegyzokonyv\",\n",
    "                db_jegyz_dok = \"ujbuda_jegy_dok\",\n",
    "                db_hatarozat = \"ujbuda_hatarozatok\",\n",
    "               )\n",
    "\"\"\"\n",
    "IIker = Onkorm(name = \"Második kerület\",\n",
    "               base_url=\"https://testulet.masodikkerulet.hu/app/cms/api/honlap\", \n",
    "               db_folder = \"IIker_inv_folders\",\n",
    "               db_detail = \"IIker_detail\",\n",
    "               db_biz = \"IIker_biz_meghivo\",\n",
    "               db_test = \"IIker_test_meghivo\",\n",
    "               db_test_napirendi = \"IIker_test_napirendi\",\n",
    "               db_biz_napirendi = \"IIker_biz_napirendi\",\n",
    "               db_melleklet = \"IIker_melleklet\",\n",
    "               db_jegyzokv = \"IIker_jegyzokonyv\",\n",
    "               db_jegyz_dok = \"IIker_jegy_dok\",\n",
    "               db_hatarozat = \"IIker_hatarozatok\",\n",
    "              )\n",
    " \n",
    "fehervar = Onkorm(name = \"Székesfehérvár\",\n",
    "                  base_url = \"https://mikrodat.szekesfehervar.hu/app/cms/api/honlap\", \n",
    "                  db_folder = \"fehervar_folders\",\n",
    "                  db_detail = \"fehervar_detail\",\n",
    "                  db_biz = \"fehervar_biz_meghivo\",\n",
    "                  db_test = \"fehervar_test_meghivo\",\n",
    "                  db_test_napirendi = \"fehervar_test_napirendi\",\n",
    "                  db_biz_napirendi = \"fehervar_biz_napirendi\", \n",
    "                  db_melleklet = \"fehervar_melleklet\",\n",
    "                  db_jegyzokv = \"fehervar_jegyzokonyv\",\n",
    "                  db_jegyz_dok = \"fehervar_jegy_dok\",\n",
    "                  db_hatarozat = \"fehervar_hatarozatok\",\n",
    "                 )\n",
    "\n",
    "\"\"\"\n",
    "#onks = [ujbuda, IIker, fehervar]\n",
    "onks = [ujbuda]"
   ]
  },
  {
   "cell_type": "markdown",
   "id": "c7e71a5d",
   "metadata": {},
   "source": [
    "### Meghívó, jegyzőkönyv, határozat évek"
   ]
  },
  {
   "cell_type": "markdown",
   "id": "d67fc783",
   "metadata": {},
   "source": [
    "### Meghívó mappák\n",
    "\n",
    "#### Ezzel megkapjuk az összes testületi és bizottsági meghívó mappa UUID-ját"
   ]
  },
  {
   "cell_type": "code",
   "execution_count": null,
   "id": "3d1b908a",
   "metadata": {},
   "outputs": [],
   "source": [
    "for onk in onks:\n",
    "    #évek lekérése \n",
    "    #(a meghívók, jegyzőkönyvek és határozatok évei megyegyeznek)\n",
    "    year_url = f\"{onk.base_url}/inv/years\"\n",
    "    inv_year_r = requests.get(year_url, verify=False)\n",
    "    years = inv_year_r.json()['content']\n",
    "    \n",
    "    for year in years:\n",
    "        folder_year_url = f\"{onk.base_url}/inv/folders?year={year}\"\n",
    "        folder_year_response = requests.get(folder_year_url,verify=False)\n",
    "        folder_df = pd.DataFrame(folder_year_response.json()['content'])\n",
    "        \n",
    "        with sqlite3.connect(DATABASE_PATH) as conn:\n",
    "            try:\n",
    "                folder_df.to_sql(onk.db_folder, conn, if_exists=\"append\", index=False)\n",
    "            except sqlite3.IntegrityError as e:\n",
    "                print(e)"
   ]
  },
  {
   "cell_type": "markdown",
   "id": "5b4af23d",
   "metadata": {},
   "source": [
    "### Meghívók részletei"
   ]
  },
  {
   "cell_type": "code",
   "execution_count": null,
   "id": "f4da2108",
   "metadata": {},
   "outputs": [],
   "source": [
    "# Az api helyett az adatbázisból kéri le a meghívó mappákat\n",
    "\n",
    "for onk in onks:\n",
    "    print(onk.name)\n",
    "    db_folder_df = fetch_data_from_db(DATABASE_PATH, onk.db_folder)\n",
    "    collector_df = pd.DataFrame()\n",
    "    \n",
    "    for uuid in db_folder_df[\"uuid\"]:\n",
    "        url = f\"{onk.base_url}/detail?id={uuid}\"\n",
    "        detail_response = requests.get(url,verify=False)\n",
    "        detail_df = pd.DataFrame(detail_response.json()['content'],index=[0])\n",
    "        detail_df[\"folder_uuid\"] = uuid\n",
    "        collector_df = pd.concat([detail_df,collector_df],ignore_index=True)\n",
    "        \n",
    "    with sqlite3.connect(DATABASE_PATH) as conn:\n",
    "        try:\n",
    "            collector_df.to_sql(onk.db_detail, conn, if_exists=\"append\", index=False)\n",
    "        except sqlite3.IntegrityError as e:\n",
    "            print(e)"
   ]
  },
  {
   "cell_type": "markdown",
   "id": "ba70943e",
   "metadata": {},
   "source": [
    "### A meghívók szétválogatása testületi és bizottsági meghívókra"
   ]
  },
  {
   "cell_type": "code",
   "execution_count": null,
   "id": "4381c93b",
   "metadata": {},
   "outputs": [],
   "source": [
    "ujbuda_folder_df = fetch_data_from_db(DATABASE_PATH, ujbuda.db_folder)\n",
    "ujbuda_detail_df = fetch_data_from_db(DATABASE_PATH, ujbuda.db_detail)\n",
    "\n",
    "merged = ujbuda_folder_df.merge(ujbuda_detail_df,left_on=\"uuid\",right_on=\"folder_uuid\",how=\"left\")\n",
    "\n",
    "meghivo_df = merged[[\"datum_x\",\"idopont_x\",\"kategoria_x\",\"nev\",\"uuid_x\",\"name\",\"dateLastModified\",\"uuid_y\"]]\n",
    "meghivo_df.columns = [\"Dátum\",\"Időpont\",\"Kategória\",\"Ülés típus\",\"uuid\",\"name\",\"dateLastModified\",\"uuid_2\"]\n",
    "\n",
    "test_mask = meghivo_df[\"Ülés típus\"].str.contains(\"test\")\n",
    "testulet_df = meghivo_df[test_mask]\n",
    "bizottsag_df = meghivo_df[~test_mask]\n",
    "#testulet_df.head(5)\n",
    "len(bizottsag_df)"
   ]
  },
  {
   "cell_type": "markdown",
   "id": "713bccc1",
   "metadata": {},
   "source": [
    "### **Testületi** napirendi pontok"
   ]
  },
  {
   "cell_type": "code",
   "execution_count": null,
   "id": "5295fc90",
   "metadata": {},
   "outputs": [],
   "source": [
    "collector_df = pd.DataFrame()\n",
    "\n",
    "for folder_uuid in testulet_df[\"uuid\"]:\n",
    "    test_url = f\"{onk.base_url}/inv/listtest?id={folder_uuid}\"\n",
    "    test_napi_df = make_df(test_url)\n",
    "    if test_napi_df is not None:\n",
    "        if len(test_napi_df) > 0:\n",
    "            test_napi_df[\"folder_uuid\"] = len(test_napi_df) * [folder_uuid]\n",
    "            collector_df = pd.concat([collector_df, test_napi_df],ignore_index=True)\n",
    "\n",
    "with sqlite3.connect(DATABASE_PATH) as conn:\n",
    "    try:\n",
    "        collector_df.to_sql(onk.db_test_napirendi, conn, if_exists=\"append\", index=False)\n",
    "    except sqlite3.IntegrityError as e:\n",
    "        print(e)"
   ]
  },
  {
   "cell_type": "markdown",
   "id": "c3afb1fd",
   "metadata": {},
   "source": [
    "### Bizottsági napirendi pontok"
   ]
  },
  {
   "cell_type": "code",
   "execution_count": null,
   "id": "493b2a12",
   "metadata": {},
   "outputs": [],
   "source": [
    "collector_df = pd.DataFrame()\n",
    "\n",
    "for row in bizottsag_df.iterrows():\n",
    "    uuid = row[1][\"uuid\"]\n",
    "    uuid2 = row[1][\"uuid_2\"]\n",
    "    test_url = f\"{onk.base_url}/inv/list?id={uuid}&id2={uuid2}\"\n",
    "    test_napi_df = make_df(test_url)\n",
    "    \n",
    "    if test_napi_df is not None:\n",
    "        if len(test_napi_df) > 0:\n",
    "            test_napi_df[\"folder_uuid\"] = len(test_napi_df) * [uuid]\n",
    "            test_napi_df[\"uuid2\"] = len(test_napi_df) * [uuid2]\n",
    "            collector_df = pd.concat([collector_df, test_napi_df],ignore_index=True)\n",
    "\n",
    "with sqlite3.connect(DATABASE_PATH) as conn:\n",
    "    try:\n",
    "        collector_df.to_sql(onk.db_biz_napirendi, conn, if_exists=\"append\", index=False)\n",
    "    except sqlite3.IntegrityError as e:\n",
    "        print(e)"
   ]
  },
  {
   "cell_type": "markdown",
   "id": "beb543e2",
   "metadata": {},
   "source": [
    "## dokumentumok\n",
    "\n",
    "### testületi határozati javaslatok"
   ]
  },
  {
   "cell_type": "code",
   "execution_count": null,
   "id": "c8f12f47",
   "metadata": {},
   "outputs": [],
   "source": [
    "ujbuda_folder_df = fetch_data_from_db(DATABASE_PATH, ujbuda.db_folder)\n",
    "test_napi_pont = fetch_data_from_db(DATABASE_PATH, ujbuda.db_test_napirendi)"
   ]
  },
  {
   "cell_type": "code",
   "execution_count": null,
   "id": "be5e03c9",
   "metadata": {},
   "outputs": [],
   "source": [
    "mappa_test_merged = test_napi_pont.merge(ujbuda_folder_df,left_on='folder_uuid',right_on='uuid')[['folder_uuid','uuid_x']]"
   ]
  },
  {
   "cell_type": "code",
   "execution_count": null,
   "id": "33165550",
   "metadata": {},
   "outputs": [],
   "source": [
    "for i in mappa_test_merged.iterrows():\n",
    "    collector_df = pd.DataFrame()\n",
    "    uuid1 = i[1][0] # folder uuid\n",
    "    uuid2 = i[1][1] # napirendi pont uuid\n",
    "    test_dok_url = ujbuda.base_url + f\"/elo/djav?uuid={uuid1}&uuid2={uuid2}\"\n",
    "    test_dokumentum_df = make_df(test_dok_url)\n",
    "    if test_dokumentum_df is not None:\n",
    "        if len(test_dokumentum_df) > 0:\n",
    "            test_dokumentum_df[\"folder_uuid\"] = len(test_dokumentum_df) * [uuid1]\n",
    "            test_dokumentum_df[\"napirendi_uuid\"] = len(test_dokumentum_df) * [uuid2]\n",
    "            collector_df = pd.concat([collector_df, test_dokumentum_df], ignore_index=True)\n",
    "            \n",
    "    with sqlite3.connect(DATABASE_PATH) as conn:\n",
    "        try:\n",
    "            collector_df.to_sql(ujbuda.db_test_dokumentum, conn, if_exists=\"append\", index=False)\n",
    "        except Exception as e:\n",
    "            pass\n",
    "            #print(e)\n",
    "            #print(test_url)"
   ]
  },
  {
   "cell_type": "code",
   "execution_count": null,
   "id": "5be9dfa7",
   "metadata": {},
   "outputs": [],
   "source": [
    "db_folder_df = fetch_data_from_db(DATABASE_PATH, ujbuda.db_test_dokumentum)\n",
    "db_folder_df.to_excel(\"ujbuda_test_dokumentum.xlsx\")"
   ]
  },
  {
   "cell_type": "markdown",
   "id": "159a5f74",
   "metadata": {},
   "source": [
    "### testületi mellékletek"
   ]
  },
  {
   "cell_type": "code",
   "execution_count": null,
   "id": "39319a1e",
   "metadata": {},
   "outputs": [],
   "source": [
    "for i in mappa_test_merged.iterrows():\n",
    "    collector_df = pd.DataFrame()\n",
    "    uuid1 = i[1][0] # folder uuid\n",
    "    uuid2 = i[1][1] # napirendi pont uuid\n",
    "    test_melleklet_url = ujbuda.base_url + f\"/elo/att?uuid={uuid1}&uuid2={uuid2}\"\n",
    "    test_melleklet_df = make_df(test_melleklet_url)\n",
    "    if test_melleklet_df is not None:\n",
    "        if len(test_melleklet_df) > 0:\n",
    "            test_melleklet_df[\"folder_uuid\"] = len(test_melleklet_df) * [uuid1]\n",
    "            test_melleklet_df[\"napirendi_uuid\"] = len(test_melleklet_df) * [uuid2]\n",
    "            collector_df = pd.concat([collector_df, test_melleklet_df], ignore_index=True)\n",
    "            \n",
    "    with sqlite3.connect(DATABASE_PATH) as conn:\n",
    "        try:\n",
    "            collector_df.to_sql(ujbuda.db_melleklet, conn, if_exists=\"append\", index=False)\n",
    "        except Exception as e:\n",
    "            pass\n",
    "            #print(e)\n",
    "            #print(test_url)"
   ]
  },
  {
   "cell_type": "code",
   "execution_count": null,
   "id": "ef244662",
   "metadata": {},
   "outputs": [],
   "source": [
    "ujbuda.db_melleklet"
   ]
  },
  {
   "cell_type": "markdown",
   "id": "08d16dfa",
   "metadata": {},
   "source": [
    "### bizottsági dokumentumok"
   ]
  },
  {
   "cell_type": "code",
   "execution_count": null,
   "id": "da5909e4",
   "metadata": {},
   "outputs": [],
   "source": [
    "ujbuda_folder_df = fetch_data_from_db(DATABASE_PATH, ujbuda.db_folder)\n",
    "biz_napi_pont = fetch_data_from_db(DATABASE_PATH, ujbuda.db_biz_napirendi)\n",
    "mappa_biz_merged = biz_napi_pont.merge(ujbuda_folder_df,left_on='folder_uuid',right_on='uuid')[['folder_uuid','uuid_x']]\n"
   ]
  },
  {
   "cell_type": "code",
   "execution_count": null,
   "id": "28a19145",
   "metadata": {},
   "outputs": [],
   "source": [
    "for i in mappa_biz_merged.iterrows():\n",
    "    collector_df = pd.DataFrame()\n",
    "    uuid1 = i[1][0] # folder uuid\n",
    "    uuid2 = i[1][1] # napirendi pont uuid\n",
    "    biz_dok_url = ujbuda.base_url + f\"/elo/djav?uuid={uuid1}&uuid2={uuid2}\"\n",
    "    biz_dok_df = make_df(biz_dok_url)\n",
    "    if biz_dok_df is not None:\n",
    "        if len(biz_dok_df) > 0:\n",
    "            biz_dok_df[\"folder_uuid\"] = len(biz_dok_df) * [uuid1]\n",
    "            biz_dok_df[\"napirendi_uuid\"] = len(biz_dok_df) * [uuid2]\n",
    "            collector_df = pd.concat([collector_df, biz_dok_df], ignore_index=True)\n",
    "            \n",
    "    with sqlite3.connect(DATABASE_PATH) as conn:\n",
    "        try:\n",
    "            collector_df.to_sql(ujbuda.db_biz_dokumentum, conn, if_exists=\"append\", index=False)\n",
    "        except Exception as e:\n",
    "            pass\n",
    "            #print(e)\n",
    "            #print(test_url)"
   ]
  },
  {
   "cell_type": "code",
   "execution_count": null,
   "id": "aa5d0295",
   "metadata": {},
   "outputs": [],
   "source": [
    "db_folder_df = fetch_data_from_db(DATABASE_PATH, ujbuda.db_biz_dokumentum)\n",
    "db_folder_df.to_excel(\"ujbuda_biz_dokumentum.xlsx\")"
   ]
  },
  {
   "cell_type": "markdown",
   "id": "162118af",
   "metadata": {},
   "source": [
    "### bizottsági mellékletek"
   ]
  },
  {
   "cell_type": "code",
   "execution_count": null,
   "id": "7ea62af9",
   "metadata": {},
   "outputs": [],
   "source": [
    "for i in mappa_biz_merged.iterrows():\n",
    "    collector_df = pd.DataFrame()\n",
    "    uuid1 = i[1][0] # folder uuid\n",
    "    uuid2 = i[1][1] # napirendi pont uuid\n",
    "    biz_melleklet_url = ujbuda.base_url + f\"/elo/att?uuid={uuid1}&uuid2={uuid2}\"\n",
    "    biz_melleklet_df = make_df(biz_melleklet_url)\n",
    "    if biz_melleklet_df is not None:\n",
    "        if len(biz_melleklet_df) > 0:\n",
    "            biz_melleklet_df[\"folder_uuid\"] = len(biz_melleklet_df) * [uuid1]\n",
    "            biz_melleklet_df[\"napirendi_uuid\"] = len(biz_melleklet_df) * [uuid2]\n",
    "            collector_df = pd.concat([collector_df, biz_melleklet_df], ignore_index=True)\n",
    "            \n",
    "    with sqlite3.connect(DATABASE_PATH) as conn:\n",
    "        try:\n",
    "            collector_df.to_sql(ujbuda.db_biz_melleklet, conn, if_exists=\"append\", index=False)\n",
    "        except Exception as e:\n",
    "            pass\n",
    "            #print(e)\n",
    "            #print(test_url)"
   ]
  },
  {
   "cell_type": "code",
   "execution_count": null,
   "id": "661ae0c4",
   "metadata": {},
   "outputs": [],
   "source": []
  },
  {
   "cell_type": "markdown",
   "id": "74ffbbdd",
   "metadata": {},
   "source": [
    "### (Testületi meghívó)"
   ]
  },
  {
   "cell_type": "code",
   "execution_count": null,
   "id": "3f05ab54",
   "metadata": {},
   "outputs": [],
   "source": [
    "for onk in onks:\n",
    "    print(onk.name)\n",
    "    db_folder_df = fetch_data_from_db(DATABASE_PATH, onk.db_folder)\n",
    "    collector_df = pd.DataFrame()\n",
    "    \n",
    "    for folder_uuid in db_folder_df[\"uuid\"]:\n",
    "        test_url = f\"{onk.base_url}/inv/test?id={folder_uuid}\"\n",
    "        test_inv_df = make_df(test_url)\n",
    "        if test_inv_df is not None:\n",
    "            if len(test_inv_df) > 0:\n",
    "                test_inv_df[\"folder_uuid\"] = len(test_inv_df) * [folder_uuid]\n",
    "                collector_df = pd.concat([collector_df, test_inv_df],ignore_index=True)\n",
    "        \n",
    "    with sqlite3.connect(DATABASE_PATH) as conn:\n",
    "        try:\n",
    "            collector_df.to_sql(onk.db_test, conn, if_exists=\"append\", index=False)\n",
    "        except Exception as e:\n",
    "            print(e)\n",
    "            #print(test_url)"
   ]
  },
  {
   "cell_type": "markdown",
   "id": "9f43282e",
   "metadata": {},
   "source": [
    "### (Bizottsági meghívó)"
   ]
  },
  {
   "cell_type": "code",
   "execution_count": null,
   "id": "ef3f63ca",
   "metadata": {},
   "outputs": [],
   "source": [
    "for onk in onks:\n",
    "    print(onk.name)\n",
    "    db_folder_df = fetch_data_from_db(DATABASE_PATH, onk.db_folder)\n",
    "    collector_df = pd.DataFrame()\n",
    "    for folder_uuid in db_folder_df[\"uuid\"]:\n",
    "        test_url = f\"{onk.base_url}/inv/biz?id={folder_uuid}\"\n",
    "        biz_inv_df = make_df(test_url)\n",
    "        if biz_inv_df is not None:\n",
    "            if len(biz_inv_df) > 0:\n",
    "                biz_inv_df[\"folder_uuid\"] = len(biz_inv_df) * [folder_uuid]\n",
    "                collector_df = pd.concat([collector_df, biz_inv_df],ignore_index=True)\n",
    "        \n",
    "    with sqlite3.connect(DATABASE_PATH) as conn:\n",
    "        try:\n",
    "            collector_df.to_sql(onk.db_biz, conn, if_exists=\"append\", index=False)\n",
    "        except sqlite3.IntegrityError as e:\n",
    "            print(e)"
   ]
  },
  {
   "cell_type": "markdown",
   "id": "71a713c9",
   "metadata": {},
   "source": [
    "https://mikrodat.ujbuda.hu/app/cms/api/honlap/inv/listtest?id=8ba08f48-4373-11ef-a7ed-e70a27390546"
   ]
  },
  {
   "cell_type": "markdown",
   "id": "93e26eb2",
   "metadata": {},
   "source": [
    "### Bizottsági napirendi pontok"
   ]
  },
  {
   "cell_type": "markdown",
   "id": "b427ec7f",
   "metadata": {},
   "source": [
    "https://mikrodat.ujbuda.hu/app/cms/api/honlap/inv/list?id=a57cdad5-4a65-11ef-a077-e70a27390546&id2=a5cbbe36-4a65-11ef-a077-e70a27390546"
   ]
  },
  {
   "cell_type": "markdown",
   "id": "4a315cef",
   "metadata": {},
   "source": [
    "### Döntési / határozati javaslatok\n",
    "\n",
    "folder_uuid = \"8ba08f48-4373-11ef-a7ed-e70a27390546\"  \n",
    "uuid2 = \"2a62a29e-4d89-11ef-a077-e70a27390546\"  \n",
    "url =  f\"https://mikrodat.ujbuda.hu/app/cms/api/honlap/elo/djav?uuid={folder_uuid}&uuid2={uuid2}\"  \n",
    "print(url)\n"
   ]
  },
  {
   "cell_type": "markdown",
   "id": "e0a8323d",
   "metadata": {},
   "source": [
    "### Testületi ülések"
   ]
  },
  {
   "cell_type": "code",
   "execution_count": null,
   "id": "27ee9d05",
   "metadata": {},
   "outputs": [],
   "source": [
    "for onk in onks:\n",
    "    print(onk.name)\n",
    "    test_napirendi_df = fetch_data_from_db(DATABASE_PATH, onk.db_test_napirendi)\n",
    "    collector_df = pd.DataFrame()\n",
    "    \n",
    "    for row in test_napirendi_df.iterrows():\n",
    "        folder_uuid = row[1][\"folder_uuid\"]\n",
    "        uuid2 = row[1][\"uuid\"]\n",
    "        hat_jav_url = f\"{onk.base_url}/elo/djav?uuid={folder_uuid}&uuid2={uuid2}\"\n",
    "        print(hat_jav_url)\n",
    "        hat_jav_df = make_df(hat_jav_url)\n",
    "        if hat_jav_df is not None:\n",
    "            if len(hat_jav_df) > 0:\n",
    "                hat_jav_df[\"folder_uuid\"] = len(hat_jav_df) * [folder_uuid]\n",
    "                hat_jav_df[\"napirendi_uuid\"] = len(hat_jav_df) * [uuid2]\n",
    "        collector_df = pd.concat([collector_df, hat_jav_df], ignore_index=True)\n",
    "        \n",
    "    with sqlite3.connect(DATABASE_PATH) as conn:\n",
    "        try:\n",
    "            collector_df.to_sql(onk.db_melleklet, conn, if_exists=\"append\", index=False)\n",
    "        except Exception as e:\n",
    "            print(e)"
   ]
  },
  {
   "cell_type": "markdown",
   "id": "e22f4324",
   "metadata": {},
   "source": [
    "Előterjesztés mellékletek  \n",
    "Endpoint: /app/cms/api/honlap/elo/att   \n",
    "GET paraméterek: uuid - a meghívó uuid-je, uuid2 - a napirendi pont uuid-je  \n",
    "https://mikrodat.ujbuda.hu/app/cms/api/honlap/elo/att?uuid=8ba08f48-4373-11ef-a7ed-e70a27390546&uuid2=25ac459d-4d89-11ef-a077-e70a27390546\n"
   ]
  }
 ],
 "metadata": {
  "kernelspec": {
   "display_name": "Python 3 (ipykernel)",
   "language": "python",
   "name": "python3"
  },
  "language_info": {
   "codemirror_mode": {
    "name": "ipython",
    "version": 3
   },
   "file_extension": ".py",
   "mimetype": "text/x-python",
   "name": "python",
   "nbconvert_exporter": "python",
   "pygments_lexer": "ipython3",
   "version": "3.10.12"
  }
 },
 "nbformat": 4,
 "nbformat_minor": 5
}
